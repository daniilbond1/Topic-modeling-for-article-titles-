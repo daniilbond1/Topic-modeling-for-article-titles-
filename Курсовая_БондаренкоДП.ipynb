{
  "nbformat": 4,
  "nbformat_minor": 0,
  "metadata": {
    "colab": {
      "provenance": []
    },
    "kernelspec": {
      "name": "python3",
      "display_name": "Python 3"
    },
    "language_info": {
      "name": "python"
    },
    "widgets": {
      "application/vnd.jupyter.widget-state+json": {
        "ca7465d14c9444bc9e2c41e3c58dd881": {
          "model_module": "@jupyter-widgets/controls",
          "model_name": "HBoxModel",
          "model_module_version": "1.5.0",
          "state": {
            "_dom_classes": [],
            "_model_module": "@jupyter-widgets/controls",
            "_model_module_version": "1.5.0",
            "_model_name": "HBoxModel",
            "_view_count": null,
            "_view_module": "@jupyter-widgets/controls",
            "_view_module_version": "1.5.0",
            "_view_name": "HBoxView",
            "box_style": "",
            "children": [
              "IPY_MODEL_f2947de98596432d80fcbc9efa266ede",
              "IPY_MODEL_37dc7d7b407b4b7694ecdb5f1c2744c6",
              "IPY_MODEL_7ec66b429deb4217bf28fc60963ec58e"
            ],
            "layout": "IPY_MODEL_0408f4de5c54421e8094a053e6666208"
          }
        },
        "f2947de98596432d80fcbc9efa266ede": {
          "model_module": "@jupyter-widgets/controls",
          "model_name": "HTMLModel",
          "model_module_version": "1.5.0",
          "state": {
            "_dom_classes": [],
            "_model_module": "@jupyter-widgets/controls",
            "_model_module_version": "1.5.0",
            "_model_name": "HTMLModel",
            "_view_count": null,
            "_view_module": "@jupyter-widgets/controls",
            "_view_module_version": "1.5.0",
            "_view_name": "HTMLView",
            "description": "",
            "description_tooltip": null,
            "layout": "IPY_MODEL_4b58c533a2be48e5ad61b8b6931d5cbf",
            "placeholder": "​",
            "style": "IPY_MODEL_cde6ca0c3d614fe6a0e85917d2e2a9e0",
            "value": "Batches: 100%"
          }
        },
        "37dc7d7b407b4b7694ecdb5f1c2744c6": {
          "model_module": "@jupyter-widgets/controls",
          "model_name": "FloatProgressModel",
          "model_module_version": "1.5.0",
          "state": {
            "_dom_classes": [],
            "_model_module": "@jupyter-widgets/controls",
            "_model_module_version": "1.5.0",
            "_model_name": "FloatProgressModel",
            "_view_count": null,
            "_view_module": "@jupyter-widgets/controls",
            "_view_module_version": "1.5.0",
            "_view_name": "ProgressView",
            "bar_style": "success",
            "description": "",
            "description_tooltip": null,
            "layout": "IPY_MODEL_8093b773edc94d13b1a172daa04f53c7",
            "max": 656,
            "min": 0,
            "orientation": "horizontal",
            "style": "IPY_MODEL_f23353ed63964e61b4160e287bff9f63",
            "value": 656
          }
        },
        "7ec66b429deb4217bf28fc60963ec58e": {
          "model_module": "@jupyter-widgets/controls",
          "model_name": "HTMLModel",
          "model_module_version": "1.5.0",
          "state": {
            "_dom_classes": [],
            "_model_module": "@jupyter-widgets/controls",
            "_model_module_version": "1.5.0",
            "_model_name": "HTMLModel",
            "_view_count": null,
            "_view_module": "@jupyter-widgets/controls",
            "_view_module_version": "1.5.0",
            "_view_name": "HTMLView",
            "description": "",
            "description_tooltip": null,
            "layout": "IPY_MODEL_76b7e0d49ce74f0f93597981d53ec2fa",
            "placeholder": "​",
            "style": "IPY_MODEL_450e7517c08a4c18bf233ede972a8096",
            "value": " 656/656 [04:12&lt;00:00,  6.98it/s]"
          }
        },
        "0408f4de5c54421e8094a053e6666208": {
          "model_module": "@jupyter-widgets/base",
          "model_name": "LayoutModel",
          "model_module_version": "1.2.0",
          "state": {
            "_model_module": "@jupyter-widgets/base",
            "_model_module_version": "1.2.0",
            "_model_name": "LayoutModel",
            "_view_count": null,
            "_view_module": "@jupyter-widgets/base",
            "_view_module_version": "1.2.0",
            "_view_name": "LayoutView",
            "align_content": null,
            "align_items": null,
            "align_self": null,
            "border": null,
            "bottom": null,
            "display": null,
            "flex": null,
            "flex_flow": null,
            "grid_area": null,
            "grid_auto_columns": null,
            "grid_auto_flow": null,
            "grid_auto_rows": null,
            "grid_column": null,
            "grid_gap": null,
            "grid_row": null,
            "grid_template_areas": null,
            "grid_template_columns": null,
            "grid_template_rows": null,
            "height": null,
            "justify_content": null,
            "justify_items": null,
            "left": null,
            "margin": null,
            "max_height": null,
            "max_width": null,
            "min_height": null,
            "min_width": null,
            "object_fit": null,
            "object_position": null,
            "order": null,
            "overflow": null,
            "overflow_x": null,
            "overflow_y": null,
            "padding": null,
            "right": null,
            "top": null,
            "visibility": null,
            "width": null
          }
        },
        "4b58c533a2be48e5ad61b8b6931d5cbf": {
          "model_module": "@jupyter-widgets/base",
          "model_name": "LayoutModel",
          "model_module_version": "1.2.0",
          "state": {
            "_model_module": "@jupyter-widgets/base",
            "_model_module_version": "1.2.0",
            "_model_name": "LayoutModel",
            "_view_count": null,
            "_view_module": "@jupyter-widgets/base",
            "_view_module_version": "1.2.0",
            "_view_name": "LayoutView",
            "align_content": null,
            "align_items": null,
            "align_self": null,
            "border": null,
            "bottom": null,
            "display": null,
            "flex": null,
            "flex_flow": null,
            "grid_area": null,
            "grid_auto_columns": null,
            "grid_auto_flow": null,
            "grid_auto_rows": null,
            "grid_column": null,
            "grid_gap": null,
            "grid_row": null,
            "grid_template_areas": null,
            "grid_template_columns": null,
            "grid_template_rows": null,
            "height": null,
            "justify_content": null,
            "justify_items": null,
            "left": null,
            "margin": null,
            "max_height": null,
            "max_width": null,
            "min_height": null,
            "min_width": null,
            "object_fit": null,
            "object_position": null,
            "order": null,
            "overflow": null,
            "overflow_x": null,
            "overflow_y": null,
            "padding": null,
            "right": null,
            "top": null,
            "visibility": null,
            "width": null
          }
        },
        "cde6ca0c3d614fe6a0e85917d2e2a9e0": {
          "model_module": "@jupyter-widgets/controls",
          "model_name": "DescriptionStyleModel",
          "model_module_version": "1.5.0",
          "state": {
            "_model_module": "@jupyter-widgets/controls",
            "_model_module_version": "1.5.0",
            "_model_name": "DescriptionStyleModel",
            "_view_count": null,
            "_view_module": "@jupyter-widgets/base",
            "_view_module_version": "1.2.0",
            "_view_name": "StyleView",
            "description_width": ""
          }
        },
        "8093b773edc94d13b1a172daa04f53c7": {
          "model_module": "@jupyter-widgets/base",
          "model_name": "LayoutModel",
          "model_module_version": "1.2.0",
          "state": {
            "_model_module": "@jupyter-widgets/base",
            "_model_module_version": "1.2.0",
            "_model_name": "LayoutModel",
            "_view_count": null,
            "_view_module": "@jupyter-widgets/base",
            "_view_module_version": "1.2.0",
            "_view_name": "LayoutView",
            "align_content": null,
            "align_items": null,
            "align_self": null,
            "border": null,
            "bottom": null,
            "display": null,
            "flex": null,
            "flex_flow": null,
            "grid_area": null,
            "grid_auto_columns": null,
            "grid_auto_flow": null,
            "grid_auto_rows": null,
            "grid_column": null,
            "grid_gap": null,
            "grid_row": null,
            "grid_template_areas": null,
            "grid_template_columns": null,
            "grid_template_rows": null,
            "height": null,
            "justify_content": null,
            "justify_items": null,
            "left": null,
            "margin": null,
            "max_height": null,
            "max_width": null,
            "min_height": null,
            "min_width": null,
            "object_fit": null,
            "object_position": null,
            "order": null,
            "overflow": null,
            "overflow_x": null,
            "overflow_y": null,
            "padding": null,
            "right": null,
            "top": null,
            "visibility": null,
            "width": null
          }
        },
        "f23353ed63964e61b4160e287bff9f63": {
          "model_module": "@jupyter-widgets/controls",
          "model_name": "ProgressStyleModel",
          "model_module_version": "1.5.0",
          "state": {
            "_model_module": "@jupyter-widgets/controls",
            "_model_module_version": "1.5.0",
            "_model_name": "ProgressStyleModel",
            "_view_count": null,
            "_view_module": "@jupyter-widgets/base",
            "_view_module_version": "1.2.0",
            "_view_name": "StyleView",
            "bar_color": null,
            "description_width": ""
          }
        },
        "76b7e0d49ce74f0f93597981d53ec2fa": {
          "model_module": "@jupyter-widgets/base",
          "model_name": "LayoutModel",
          "model_module_version": "1.2.0",
          "state": {
            "_model_module": "@jupyter-widgets/base",
            "_model_module_version": "1.2.0",
            "_model_name": "LayoutModel",
            "_view_count": null,
            "_view_module": "@jupyter-widgets/base",
            "_view_module_version": "1.2.0",
            "_view_name": "LayoutView",
            "align_content": null,
            "align_items": null,
            "align_self": null,
            "border": null,
            "bottom": null,
            "display": null,
            "flex": null,
            "flex_flow": null,
            "grid_area": null,
            "grid_auto_columns": null,
            "grid_auto_flow": null,
            "grid_auto_rows": null,
            "grid_column": null,
            "grid_gap": null,
            "grid_row": null,
            "grid_template_areas": null,
            "grid_template_columns": null,
            "grid_template_rows": null,
            "height": null,
            "justify_content": null,
            "justify_items": null,
            "left": null,
            "margin": null,
            "max_height": null,
            "max_width": null,
            "min_height": null,
            "min_width": null,
            "object_fit": null,
            "object_position": null,
            "order": null,
            "overflow": null,
            "overflow_x": null,
            "overflow_y": null,
            "padding": null,
            "right": null,
            "top": null,
            "visibility": null,
            "width": null
          }
        },
        "450e7517c08a4c18bf233ede972a8096": {
          "model_module": "@jupyter-widgets/controls",
          "model_name": "DescriptionStyleModel",
          "model_module_version": "1.5.0",
          "state": {
            "_model_module": "@jupyter-widgets/controls",
            "_model_module_version": "1.5.0",
            "_model_name": "DescriptionStyleModel",
            "_view_count": null,
            "_view_module": "@jupyter-widgets/base",
            "_view_module_version": "1.2.0",
            "_view_name": "StyleView",
            "description_width": ""
          }
        }
      }
    }
  },
  "cells": [
    {
      "cell_type": "markdown",
      "source": [
        "#Topic modeling for articles title"
      ],
      "metadata": {
        "id": "MQGGFIvJbx8l"
      }
    },
    {
      "cell_type": "code",
      "source": [
        "import pandas as pd\n",
        "\n",
        "data = pd.read_csv('train.csv',engine='python')\n",
        "data = data.TITLE.to_list()\n",
        "data[:5]"
      ],
      "metadata": {
        "colab": {
          "base_uri": "https://localhost:8080/"
        },
        "id": "N2-EkUZ7HeJ8",
        "outputId": "8ccc2e3f-998a-43a3-92bb-8fafc5d27dfc"
      },
      "execution_count": 41,
      "outputs": [
        {
          "output_type": "execute_result",
          "data": {
            "text/plain": [
              "['Reconstructing Subject-Specific Effect Maps',\n",
              " 'Rotation Invariance Neural Network',\n",
              " 'Spherical polyharmonics and Poisson kernels for polyharmonic functions',\n",
              " 'A finite element approximation for the stochastic Maxwell--Landau--Lifshitz--Gilbert system',\n",
              " 'Comparative study of Discrete Wavelet Transforms and Wavelet Tensor Train decomposition to feature extraction of FTIR data of medicinal plants']"
            ]
          },
          "metadata": {},
          "execution_count": 41
        }
      ]
    },
    {
      "cell_type": "markdown",
      "source": [
        "Предобработаем текст"
      ],
      "metadata": {
        "id": "hh2OF8ihPxt9"
      }
    },
    {
      "cell_type": "code",
      "source": [
        "import nltk\n",
        "import string\n",
        "from nltk.stem.porter import PorterStemmer\n",
        "from nltk import word_tokenize\n",
        "nltk.download('punkt')\n",
        "porter = PorterStemmer()\n",
        "stop_words = ['i', 'me', 'my', 'myself', 'we', 'our', 'ours', 'ourselves', 'you', \"you're\", \"you've\", \"you'll\", \"you'd\", 'your', 'yours', 'yourself', 'yourselves', 'he', 'him', 'his', 'himself', 'she', \"she's\", 'her', 'hers', 'herself', 'it', \"it's\", 'its', 'itself', 'they', 'them', 'their', 'theirs', 'themselves', 'what', 'which', 'who', 'whom', 'this', 'that', \"that'll\", 'these', 'those', 'am', 'is', 'are', 'was', 'were', 'be', 'been', 'being', 'have', 'has', 'had', 'having', 'do', 'does', 'did', 'doing', 'a', 'an', 'the', 'and', 'but', 'if', 'or', 'because', 'as', 'until', 'while', 'of', 'at', 'by', 'for', 'with', 'about', 'against', 'between', 'into', 'through', 'during', 'before', 'after', 'above', 'below', 'to', 'from', 'up', 'down', 'in', 'out', 'on', 'off', 'over', 'under', 'again', 'further', 'then', 'once', 'here', 'there', 'when', 'where', 'why', 'how', 'all', 'any', 'both', 'each', 'few', 'more', 'most', 'other', 'some', 'such', 'no', 'nor', 'not', 'only', 'own', 'same', 'so', 'than', 'too', 'very', 's', 't', 'can', 'will', 'just', 'don', \"don't\", 'should', \"should've\", 'now', 'd', 'll', 'm', 'o', 're', 've', 'y', 'ain', 'aren', \"aren't\", 'couldn', \"couldn't\", 'didn', \"didn't\", 'doesn', \"doesn't\", 'hadn', \"hadn't\", 'hasn', \"hasn't\", 'haven', \"haven't\", 'isn', \"isn't\", 'ma', 'mightn', \"mightn't\", 'mustn', \"mustn't\", 'needn', \"needn't\", 'shan', \"shan't\", 'shouldn', \"shouldn't\", 'wasn', \"wasn't\", 'weren', \"weren't\", 'won', \"won't\", 'wouldn', \"wouldn't\"]\n",
        "\n",
        "\n",
        "def text_preprocess(text):\n",
        "  text = text.lower()\n",
        "  text_p = \"\".join([char for char in text if char not in string.punctuation])\n",
        "  words = word_tokenize(text_p)\n",
        "  filtered_words = [word for word in words if word not in stop_words]\n",
        "  stemmed = [porter.stem(word) for word in filtered_words]\n",
        "  \n",
        "  return stemmed"
      ],
      "metadata": {
        "colab": {
          "base_uri": "https://localhost:8080/"
        },
        "id": "5L4cJQzGPw1u",
        "outputId": "71888ffb-7834-4c3e-c5c3-4a43f94a8631"
      },
      "execution_count": 51,
      "outputs": [
        {
          "output_type": "stream",
          "name": "stderr",
          "text": [
            "[nltk_data] Downloading package punkt to /root/nltk_data...\n",
            "[nltk_data]   Unzipping tokenizers/punkt.zip.\n"
          ]
        }
      ]
    },
    {
      "cell_type": "code",
      "source": [
        "data = [text_preprocess(text) for text in data]"
      ],
      "metadata": {
        "id": "VjtXST--Sh7W"
      },
      "execution_count": 52,
      "outputs": []
    },
    {
      "cell_type": "code",
      "source": [
        "data[:3]"
      ],
      "metadata": {
        "colab": {
          "base_uri": "https://localhost:8080/"
        },
        "id": "mn7CV9W-T7_2",
        "outputId": "b8dce0cd-11c8-4ce5-d851-f36034a59e73"
      },
      "execution_count": 55,
      "outputs": [
        {
          "output_type": "execute_result",
          "data": {
            "text/plain": [
              "[['reconstruct', 'subjectspecif', 'effect', 'map'],\n",
              " ['rotat', 'invari', 'neural', 'network'],\n",
              " ['spheric', 'polyharmon', 'poisson', 'kernel', 'polyharmon', 'function']]"
            ]
          },
          "metadata": {},
          "execution_count": 55
        }
      ]
    },
    {
      "cell_type": "markdown",
      "source": [
        "## Bert"
      ],
      "metadata": {
        "id": "2nixm4A5sZuw"
      }
    },
    {
      "cell_type": "code",
      "source": [
        "!pip install bertopic"
      ],
      "metadata": {
        "colab": {
          "base_uri": "https://localhost:8080/"
        },
        "id": "lxWz4dzYsgii",
        "outputId": "2b2389f6-f4fe-4143-abb2-b3c3eaa0fa0a"
      },
      "execution_count": 16,
      "outputs": [
        {
          "output_type": "stream",
          "name": "stdout",
          "text": [
            "Looking in indexes: https://pypi.org/simple, https://us-python.pkg.dev/colab-wheels/public/simple/\n",
            "Requirement already satisfied: bertopic in /usr/local/lib/python3.9/dist-packages (0.14.1)\n",
            "Requirement already satisfied: umap-learn>=0.5.0 in /usr/local/lib/python3.9/dist-packages (from bertopic) (0.5.3)\n",
            "Requirement already satisfied: plotly>=4.7.0 in /usr/local/lib/python3.9/dist-packages (from bertopic) (5.5.0)\n",
            "Requirement already satisfied: pandas>=1.1.5 in /usr/local/lib/python3.9/dist-packages (from bertopic) (1.3.5)\n",
            "Requirement already satisfied: sentence-transformers>=0.4.1 in /usr/local/lib/python3.9/dist-packages (from bertopic) (2.2.2)\n",
            "Requirement already satisfied: scikit-learn>=0.22.2.post1 in /usr/local/lib/python3.9/dist-packages (from bertopic) (1.2.1)\n",
            "Requirement already satisfied: tqdm>=4.41.1 in /usr/local/lib/python3.9/dist-packages (from bertopic) (4.65.0)\n",
            "Requirement already satisfied: hdbscan>=0.8.29 in /usr/local/lib/python3.9/dist-packages (from bertopic) (0.8.29)\n",
            "Requirement already satisfied: numpy>=1.20.0 in /usr/local/lib/python3.9/dist-packages (from bertopic) (1.22.4)\n",
            "Requirement already satisfied: joblib>=1.0 in /usr/local/lib/python3.9/dist-packages (from hdbscan>=0.8.29->bertopic) (1.2.0)\n",
            "Requirement already satisfied: cython>=0.27 in /usr/local/lib/python3.9/dist-packages (from hdbscan>=0.8.29->bertopic) (0.29.33)\n",
            "Requirement already satisfied: scipy>=1.0 in /usr/local/lib/python3.9/dist-packages (from hdbscan>=0.8.29->bertopic) (1.10.1)\n",
            "Requirement already satisfied: python-dateutil>=2.7.3 in /usr/local/lib/python3.9/dist-packages (from pandas>=1.1.5->bertopic) (2.8.2)\n",
            "Requirement already satisfied: pytz>=2017.3 in /usr/local/lib/python3.9/dist-packages (from pandas>=1.1.5->bertopic) (2022.7.1)\n",
            "Requirement already satisfied: tenacity>=6.2.0 in /usr/local/lib/python3.9/dist-packages (from plotly>=4.7.0->bertopic) (8.2.2)\n",
            "Requirement already satisfied: six in /usr/local/lib/python3.9/dist-packages (from plotly>=4.7.0->bertopic) (1.15.0)\n",
            "Requirement already satisfied: threadpoolctl>=2.0.0 in /usr/local/lib/python3.9/dist-packages (from scikit-learn>=0.22.2.post1->bertopic) (3.1.0)\n",
            "Requirement already satisfied: nltk in /usr/local/lib/python3.9/dist-packages (from sentence-transformers>=0.4.1->bertopic) (3.7)\n",
            "Requirement already satisfied: sentencepiece in /usr/local/lib/python3.9/dist-packages (from sentence-transformers>=0.4.1->bertopic) (0.1.97)\n",
            "Requirement already satisfied: transformers<5.0.0,>=4.6.0 in /usr/local/lib/python3.9/dist-packages (from sentence-transformers>=0.4.1->bertopic) (4.26.1)\n",
            "Requirement already satisfied: huggingface-hub>=0.4.0 in /usr/local/lib/python3.9/dist-packages (from sentence-transformers>=0.4.1->bertopic) (0.13.1)\n",
            "Requirement already satisfied: torchvision in /usr/local/lib/python3.9/dist-packages (from sentence-transformers>=0.4.1->bertopic) (0.14.1+cu116)\n",
            "Requirement already satisfied: torch>=1.6.0 in /usr/local/lib/python3.9/dist-packages (from sentence-transformers>=0.4.1->bertopic) (1.13.1+cu116)\n",
            "Requirement already satisfied: numba>=0.49 in /usr/local/lib/python3.9/dist-packages (from umap-learn>=0.5.0->bertopic) (0.56.4)\n",
            "Requirement already satisfied: pynndescent>=0.5 in /usr/local/lib/python3.9/dist-packages (from umap-learn>=0.5.0->bertopic) (0.5.8)\n",
            "Requirement already satisfied: pyyaml>=5.1 in /usr/local/lib/python3.9/dist-packages (from huggingface-hub>=0.4.0->sentence-transformers>=0.4.1->bertopic) (6.0)\n",
            "Requirement already satisfied: typing-extensions>=3.7.4.3 in /usr/local/lib/python3.9/dist-packages (from huggingface-hub>=0.4.0->sentence-transformers>=0.4.1->bertopic) (4.5.0)\n",
            "Requirement already satisfied: packaging>=20.9 in /usr/local/lib/python3.9/dist-packages (from huggingface-hub>=0.4.0->sentence-transformers>=0.4.1->bertopic) (23.0)\n",
            "Requirement already satisfied: requests in /usr/local/lib/python3.9/dist-packages (from huggingface-hub>=0.4.0->sentence-transformers>=0.4.1->bertopic) (2.25.1)\n",
            "Requirement already satisfied: filelock in /usr/local/lib/python3.9/dist-packages (from huggingface-hub>=0.4.0->sentence-transformers>=0.4.1->bertopic) (3.9.0)\n",
            "Requirement already satisfied: llvmlite<0.40,>=0.39.0dev0 in /usr/local/lib/python3.9/dist-packages (from numba>=0.49->umap-learn>=0.5.0->bertopic) (0.39.1)\n",
            "Requirement already satisfied: setuptools in /usr/local/lib/python3.9/dist-packages (from numba>=0.49->umap-learn>=0.5.0->bertopic) (57.4.0)\n",
            "Requirement already satisfied: regex!=2019.12.17 in /usr/local/lib/python3.9/dist-packages (from transformers<5.0.0,>=4.6.0->sentence-transformers>=0.4.1->bertopic) (2022.6.2)\n",
            "Requirement already satisfied: tokenizers!=0.11.3,<0.14,>=0.11.1 in /usr/local/lib/python3.9/dist-packages (from transformers<5.0.0,>=4.6.0->sentence-transformers>=0.4.1->bertopic) (0.13.2)\n",
            "Requirement already satisfied: click in /usr/local/lib/python3.9/dist-packages (from nltk->sentence-transformers>=0.4.1->bertopic) (8.1.3)\n",
            "Requirement already satisfied: pillow!=8.3.*,>=5.3.0 in /usr/local/lib/python3.9/dist-packages (from torchvision->sentence-transformers>=0.4.1->bertopic) (8.4.0)\n",
            "Requirement already satisfied: certifi>=2017.4.17 in /usr/local/lib/python3.9/dist-packages (from requests->huggingface-hub>=0.4.0->sentence-transformers>=0.4.1->bertopic) (2022.12.7)\n",
            "Requirement already satisfied: idna<3,>=2.5 in /usr/local/lib/python3.9/dist-packages (from requests->huggingface-hub>=0.4.0->sentence-transformers>=0.4.1->bertopic) (2.10)\n",
            "Requirement already satisfied: urllib3<1.27,>=1.21.1 in /usr/local/lib/python3.9/dist-packages (from requests->huggingface-hub>=0.4.0->sentence-transformers>=0.4.1->bertopic) (1.26.14)\n",
            "Requirement already satisfied: chardet<5,>=3.0.2 in /usr/local/lib/python3.9/dist-packages (from requests->huggingface-hub>=0.4.0->sentence-transformers>=0.4.1->bertopic) (4.0.0)\n"
          ]
        }
      ]
    },
    {
      "cell_type": "markdown",
      "source": [
        "Тексты для берта надо склеить обратно.\n"
      ],
      "metadata": {
        "id": "90BJ_1rbUEK5"
      }
    },
    {
      "cell_type": "code",
      "source": [
        "def connect_data_for_bert(tokens):\n",
        "  text = ''\n",
        "  for token in tokens:\n",
        "    text+=token+' '\n",
        "  return text\n",
        "data_bert = [connect_data_for_bert(text) for text in data]"
      ],
      "metadata": {
        "id": "rUtSVVSfUJ1K"
      },
      "execution_count": 56,
      "outputs": []
    },
    {
      "cell_type": "code",
      "source": [
        "data_bert[:3]"
      ],
      "metadata": {
        "colab": {
          "base_uri": "https://localhost:8080/"
        },
        "id": "4VFufl9SUtaq",
        "outputId": "3c015028-c2cf-41a3-b1ca-97c125516ad5"
      },
      "execution_count": 58,
      "outputs": [
        {
          "output_type": "execute_result",
          "data": {
            "text/plain": [
              "['reconstruct subjectspecif effect map ',\n",
              " 'rotat invari neural network ',\n",
              " 'spheric polyharmon poisson kernel polyharmon function ']"
            ]
          },
          "metadata": {},
          "execution_count": 58
        }
      ]
    },
    {
      "cell_type": "code",
      "source": [
        "from bertopic import BERTopic\n",
        "model = BERTopic(verbose=True,embedding_model='paraphrase-MiniLM-L3-v2', nr_topics =7)\n",
        "headline_topics, _ = model.fit_transform(data_bert)"
      ],
      "metadata": {
        "colab": {
          "base_uri": "https://localhost:8080/",
          "height": 120,
          "referenced_widgets": [
            "ca7465d14c9444bc9e2c41e3c58dd881",
            "f2947de98596432d80fcbc9efa266ede",
            "37dc7d7b407b4b7694ecdb5f1c2744c6",
            "7ec66b429deb4217bf28fc60963ec58e",
            "0408f4de5c54421e8094a053e6666208",
            "4b58c533a2be48e5ad61b8b6931d5cbf",
            "cde6ca0c3d614fe6a0e85917d2e2a9e0",
            "8093b773edc94d13b1a172daa04f53c7",
            "f23353ed63964e61b4160e287bff9f63",
            "76b7e0d49ce74f0f93597981d53ec2fa",
            "450e7517c08a4c18bf233ede972a8096"
          ]
        },
        "id": "387oxx-wsY9Z",
        "outputId": "7603b9bd-9742-446d-acf2-8f6658b92cfd"
      },
      "execution_count": 61,
      "outputs": [
        {
          "output_type": "display_data",
          "data": {
            "text/plain": [
              "Batches:   0%|          | 0/656 [00:00<?, ?it/s]"
            ],
            "application/vnd.jupyter.widget-view+json": {
              "version_major": 2,
              "version_minor": 0,
              "model_id": "ca7465d14c9444bc9e2c41e3c58dd881"
            }
          },
          "metadata": {}
        },
        {
          "output_type": "stream",
          "name": "stderr",
          "text": [
            "2023-03-11 16:07:55,409 - BERTopic - Transformed documents to Embeddings\n",
            "2023-03-11 16:08:10,565 - BERTopic - Reduced dimensionality\n",
            "2023-03-11 16:08:13,178 - BERTopic - Clustered reduced embeddings\n",
            "2023-03-11 16:08:23,986 - BERTopic - Reduced number of topics from 240 to 7\n"
          ]
        }
      ]
    },
    {
      "cell_type": "code",
      "source": [
        "model.get_topic_info()"
      ],
      "metadata": {
        "colab": {
          "base_uri": "https://localhost:8080/",
          "height": 269
        },
        "id": "EGVXc0HbujYI",
        "outputId": "a99ea3fd-beb8-457e-ca53-45c07f5542da"
      },
      "execution_count": 62,
      "outputs": [
        {
          "output_type": "execute_result",
          "data": {
            "text/plain": [
              "   Topic  Count                                Name\n",
              "0     -1   9344          -1_model_learn_use_network\n",
              "1      0  10960         0_network_learn_model_gener\n",
              "2      1    311       1_tree_statist_forest_lowrank\n",
              "3      2    156   2_game_gan_gametheoret_equilibria\n",
              "4      3    149           3_causal_brain_neuron_eeg\n",
              "5      4     31  4_datadriven_framework_estim_optim\n",
              "6      5     21     5_industri_analysi_40_largescal"
            ],
            "text/html": [
              "\n",
              "  <div id=\"df-ad532144-3676-490e-a463-85c5c71b883c\">\n",
              "    <div class=\"colab-df-container\">\n",
              "      <div>\n",
              "<style scoped>\n",
              "    .dataframe tbody tr th:only-of-type {\n",
              "        vertical-align: middle;\n",
              "    }\n",
              "\n",
              "    .dataframe tbody tr th {\n",
              "        vertical-align: top;\n",
              "    }\n",
              "\n",
              "    .dataframe thead th {\n",
              "        text-align: right;\n",
              "    }\n",
              "</style>\n",
              "<table border=\"1\" class=\"dataframe\">\n",
              "  <thead>\n",
              "    <tr style=\"text-align: right;\">\n",
              "      <th></th>\n",
              "      <th>Topic</th>\n",
              "      <th>Count</th>\n",
              "      <th>Name</th>\n",
              "    </tr>\n",
              "  </thead>\n",
              "  <tbody>\n",
              "    <tr>\n",
              "      <th>0</th>\n",
              "      <td>-1</td>\n",
              "      <td>9344</td>\n",
              "      <td>-1_model_learn_use_network</td>\n",
              "    </tr>\n",
              "    <tr>\n",
              "      <th>1</th>\n",
              "      <td>0</td>\n",
              "      <td>10960</td>\n",
              "      <td>0_network_learn_model_gener</td>\n",
              "    </tr>\n",
              "    <tr>\n",
              "      <th>2</th>\n",
              "      <td>1</td>\n",
              "      <td>311</td>\n",
              "      <td>1_tree_statist_forest_lowrank</td>\n",
              "    </tr>\n",
              "    <tr>\n",
              "      <th>3</th>\n",
              "      <td>2</td>\n",
              "      <td>156</td>\n",
              "      <td>2_game_gan_gametheoret_equilibria</td>\n",
              "    </tr>\n",
              "    <tr>\n",
              "      <th>4</th>\n",
              "      <td>3</td>\n",
              "      <td>149</td>\n",
              "      <td>3_causal_brain_neuron_eeg</td>\n",
              "    </tr>\n",
              "    <tr>\n",
              "      <th>5</th>\n",
              "      <td>4</td>\n",
              "      <td>31</td>\n",
              "      <td>4_datadriven_framework_estim_optim</td>\n",
              "    </tr>\n",
              "    <tr>\n",
              "      <th>6</th>\n",
              "      <td>5</td>\n",
              "      <td>21</td>\n",
              "      <td>5_industri_analysi_40_largescal</td>\n",
              "    </tr>\n",
              "  </tbody>\n",
              "</table>\n",
              "</div>\n",
              "      <button class=\"colab-df-convert\" onclick=\"convertToInteractive('df-ad532144-3676-490e-a463-85c5c71b883c')\"\n",
              "              title=\"Convert this dataframe to an interactive table.\"\n",
              "              style=\"display:none;\">\n",
              "        \n",
              "  <svg xmlns=\"http://www.w3.org/2000/svg\" height=\"24px\"viewBox=\"0 0 24 24\"\n",
              "       width=\"24px\">\n",
              "    <path d=\"M0 0h24v24H0V0z\" fill=\"none\"/>\n",
              "    <path d=\"M18.56 5.44l.94 2.06.94-2.06 2.06-.94-2.06-.94-.94-2.06-.94 2.06-2.06.94zm-11 1L8.5 8.5l.94-2.06 2.06-.94-2.06-.94L8.5 2.5l-.94 2.06-2.06.94zm10 10l.94 2.06.94-2.06 2.06-.94-2.06-.94-.94-2.06-.94 2.06-2.06.94z\"/><path d=\"M17.41 7.96l-1.37-1.37c-.4-.4-.92-.59-1.43-.59-.52 0-1.04.2-1.43.59L10.3 9.45l-7.72 7.72c-.78.78-.78 2.05 0 2.83L4 21.41c.39.39.9.59 1.41.59.51 0 1.02-.2 1.41-.59l7.78-7.78 2.81-2.81c.8-.78.8-2.07 0-2.86zM5.41 20L4 18.59l7.72-7.72 1.47 1.35L5.41 20z\"/>\n",
              "  </svg>\n",
              "      </button>\n",
              "      \n",
              "  <style>\n",
              "    .colab-df-container {\n",
              "      display:flex;\n",
              "      flex-wrap:wrap;\n",
              "      gap: 12px;\n",
              "    }\n",
              "\n",
              "    .colab-df-convert {\n",
              "      background-color: #E8F0FE;\n",
              "      border: none;\n",
              "      border-radius: 50%;\n",
              "      cursor: pointer;\n",
              "      display: none;\n",
              "      fill: #1967D2;\n",
              "      height: 32px;\n",
              "      padding: 0 0 0 0;\n",
              "      width: 32px;\n",
              "    }\n",
              "\n",
              "    .colab-df-convert:hover {\n",
              "      background-color: #E2EBFA;\n",
              "      box-shadow: 0px 1px 2px rgba(60, 64, 67, 0.3), 0px 1px 3px 1px rgba(60, 64, 67, 0.15);\n",
              "      fill: #174EA6;\n",
              "    }\n",
              "\n",
              "    [theme=dark] .colab-df-convert {\n",
              "      background-color: #3B4455;\n",
              "      fill: #D2E3FC;\n",
              "    }\n",
              "\n",
              "    [theme=dark] .colab-df-convert:hover {\n",
              "      background-color: #434B5C;\n",
              "      box-shadow: 0px 1px 3px 1px rgba(0, 0, 0, 0.15);\n",
              "      filter: drop-shadow(0px 1px 2px rgba(0, 0, 0, 0.3));\n",
              "      fill: #FFFFFF;\n",
              "    }\n",
              "  </style>\n",
              "\n",
              "      <script>\n",
              "        const buttonEl =\n",
              "          document.querySelector('#df-ad532144-3676-490e-a463-85c5c71b883c button.colab-df-convert');\n",
              "        buttonEl.style.display =\n",
              "          google.colab.kernel.accessAllowed ? 'block' : 'none';\n",
              "\n",
              "        async function convertToInteractive(key) {\n",
              "          const element = document.querySelector('#df-ad532144-3676-490e-a463-85c5c71b883c');\n",
              "          const dataTable =\n",
              "            await google.colab.kernel.invokeFunction('convertToInteractive',\n",
              "                                                     [key], {});\n",
              "          if (!dataTable) return;\n",
              "\n",
              "          const docLinkHtml = 'Like what you see? Visit the ' +\n",
              "            '<a target=\"_blank\" href=https://colab.research.google.com/notebooks/data_table.ipynb>data table notebook</a>'\n",
              "            + ' to learn more about interactive tables.';\n",
              "          element.innerHTML = '';\n",
              "          dataTable['output_type'] = 'display_data';\n",
              "          await google.colab.output.renderOutput(dataTable, element);\n",
              "          const docLink = document.createElement('div');\n",
              "          docLink.innerHTML = docLinkHtml;\n",
              "          element.appendChild(docLink);\n",
              "        }\n",
              "      </script>\n",
              "    </div>\n",
              "  </div>\n",
              "  "
            ]
          },
          "metadata": {},
          "execution_count": 62
        }
      ]
    },
    {
      "cell_type": "code",
      "source": [
        "model.get_document_info(data_bert)"
      ],
      "metadata": {
        "colab": {
          "base_uri": "https://localhost:8080/",
          "height": 641
        },
        "id": "e88PKDcAOaaa",
        "outputId": "0c1f5565-72ff-409a-c78e-258af4174d2e"
      },
      "execution_count": 66,
      "outputs": [
        {
          "output_type": "execute_result",
          "data": {
            "text/plain": [
              "                                                Document  Topic  \\\n",
              "0                  reconstruct subjectspecif effect map      -1   \n",
              "1                           rotat invari neural network       0   \n",
              "2      spheric polyharmon poisson kernel polyharmon f...     -1   \n",
              "3      finit element approxim stochast maxwelllandaul...     -1   \n",
              "4      compar studi discret wavelet transform wavelet...      0   \n",
              "...                                                  ...    ...   \n",
              "20967  contemporari machin learn guid practition phys...      0   \n",
              "20968  uniform diamond coat wcco hard alloy cut inser...     -1   \n",
              "20969              analys soccer game cluster conceptor       0   \n",
              "20970   effici simul lefttail sum correl lognorm variat      -1   \n",
              "20971                      option stop problem bayesian       0   \n",
              "\n",
              "                              Name  \\\n",
              "0       -1_model_learn_use_network   \n",
              "1      0_network_learn_model_gener   \n",
              "2       -1_model_learn_use_network   \n",
              "3       -1_model_learn_use_network   \n",
              "4      0_network_learn_model_gener   \n",
              "...                            ...   \n",
              "20967  0_network_learn_model_gener   \n",
              "20968   -1_model_learn_use_network   \n",
              "20969  0_network_learn_model_gener   \n",
              "20970   -1_model_learn_use_network   \n",
              "20971  0_network_learn_model_gener   \n",
              "\n",
              "                                             Top_n_words  Probability  \\\n",
              "0      model - learn - use - network - system - estim...     0.000000   \n",
              "1      network - learn - model - gener - neural - use...     0.775822   \n",
              "2      model - learn - use - network - system - estim...     0.000000   \n",
              "3      model - learn - use - network - system - estim...     0.000000   \n",
              "4      network - learn - model - gener - neural - use...     0.980778   \n",
              "...                                                  ...          ...   \n",
              "20967  network - learn - model - gener - neural - use...     0.919745   \n",
              "20968  model - learn - use - network - system - estim...     0.000000   \n",
              "20969  network - learn - model - gener - neural - use...     0.170206   \n",
              "20970  model - learn - use - network - system - estim...     0.000000   \n",
              "20971  network - learn - model - gener - neural - use...     1.000000   \n",
              "\n",
              "       Representative_document  \n",
              "0                        False  \n",
              "1                        False  \n",
              "2                        False  \n",
              "3                        False  \n",
              "4                        False  \n",
              "...                        ...  \n",
              "20967                    False  \n",
              "20968                    False  \n",
              "20969                    False  \n",
              "20970                    False  \n",
              "20971                    False  \n",
              "\n",
              "[20972 rows x 6 columns]"
            ],
            "text/html": [
              "\n",
              "  <div id=\"df-2e6770d9-ca35-4a3a-8d63-6a4353acdd79\">\n",
              "    <div class=\"colab-df-container\">\n",
              "      <div>\n",
              "<style scoped>\n",
              "    .dataframe tbody tr th:only-of-type {\n",
              "        vertical-align: middle;\n",
              "    }\n",
              "\n",
              "    .dataframe tbody tr th {\n",
              "        vertical-align: top;\n",
              "    }\n",
              "\n",
              "    .dataframe thead th {\n",
              "        text-align: right;\n",
              "    }\n",
              "</style>\n",
              "<table border=\"1\" class=\"dataframe\">\n",
              "  <thead>\n",
              "    <tr style=\"text-align: right;\">\n",
              "      <th></th>\n",
              "      <th>Document</th>\n",
              "      <th>Topic</th>\n",
              "      <th>Name</th>\n",
              "      <th>Top_n_words</th>\n",
              "      <th>Probability</th>\n",
              "      <th>Representative_document</th>\n",
              "    </tr>\n",
              "  </thead>\n",
              "  <tbody>\n",
              "    <tr>\n",
              "      <th>0</th>\n",
              "      <td>reconstruct subjectspecif effect map</td>\n",
              "      <td>-1</td>\n",
              "      <td>-1_model_learn_use_network</td>\n",
              "      <td>model - learn - use - network - system - estim...</td>\n",
              "      <td>0.000000</td>\n",
              "      <td>False</td>\n",
              "    </tr>\n",
              "    <tr>\n",
              "      <th>1</th>\n",
              "      <td>rotat invari neural network</td>\n",
              "      <td>0</td>\n",
              "      <td>0_network_learn_model_gener</td>\n",
              "      <td>network - learn - model - gener - neural - use...</td>\n",
              "      <td>0.775822</td>\n",
              "      <td>False</td>\n",
              "    </tr>\n",
              "    <tr>\n",
              "      <th>2</th>\n",
              "      <td>spheric polyharmon poisson kernel polyharmon f...</td>\n",
              "      <td>-1</td>\n",
              "      <td>-1_model_learn_use_network</td>\n",
              "      <td>model - learn - use - network - system - estim...</td>\n",
              "      <td>0.000000</td>\n",
              "      <td>False</td>\n",
              "    </tr>\n",
              "    <tr>\n",
              "      <th>3</th>\n",
              "      <td>finit element approxim stochast maxwelllandaul...</td>\n",
              "      <td>-1</td>\n",
              "      <td>-1_model_learn_use_network</td>\n",
              "      <td>model - learn - use - network - system - estim...</td>\n",
              "      <td>0.000000</td>\n",
              "      <td>False</td>\n",
              "    </tr>\n",
              "    <tr>\n",
              "      <th>4</th>\n",
              "      <td>compar studi discret wavelet transform wavelet...</td>\n",
              "      <td>0</td>\n",
              "      <td>0_network_learn_model_gener</td>\n",
              "      <td>network - learn - model - gener - neural - use...</td>\n",
              "      <td>0.980778</td>\n",
              "      <td>False</td>\n",
              "    </tr>\n",
              "    <tr>\n",
              "      <th>...</th>\n",
              "      <td>...</td>\n",
              "      <td>...</td>\n",
              "      <td>...</td>\n",
              "      <td>...</td>\n",
              "      <td>...</td>\n",
              "      <td>...</td>\n",
              "    </tr>\n",
              "    <tr>\n",
              "      <th>20967</th>\n",
              "      <td>contemporari machin learn guid practition phys...</td>\n",
              "      <td>0</td>\n",
              "      <td>0_network_learn_model_gener</td>\n",
              "      <td>network - learn - model - gener - neural - use...</td>\n",
              "      <td>0.919745</td>\n",
              "      <td>False</td>\n",
              "    </tr>\n",
              "    <tr>\n",
              "      <th>20968</th>\n",
              "      <td>uniform diamond coat wcco hard alloy cut inser...</td>\n",
              "      <td>-1</td>\n",
              "      <td>-1_model_learn_use_network</td>\n",
              "      <td>model - learn - use - network - system - estim...</td>\n",
              "      <td>0.000000</td>\n",
              "      <td>False</td>\n",
              "    </tr>\n",
              "    <tr>\n",
              "      <th>20969</th>\n",
              "      <td>analys soccer game cluster conceptor</td>\n",
              "      <td>0</td>\n",
              "      <td>0_network_learn_model_gener</td>\n",
              "      <td>network - learn - model - gener - neural - use...</td>\n",
              "      <td>0.170206</td>\n",
              "      <td>False</td>\n",
              "    </tr>\n",
              "    <tr>\n",
              "      <th>20970</th>\n",
              "      <td>effici simul lefttail sum correl lognorm variat</td>\n",
              "      <td>-1</td>\n",
              "      <td>-1_model_learn_use_network</td>\n",
              "      <td>model - learn - use - network - system - estim...</td>\n",
              "      <td>0.000000</td>\n",
              "      <td>False</td>\n",
              "    </tr>\n",
              "    <tr>\n",
              "      <th>20971</th>\n",
              "      <td>option stop problem bayesian</td>\n",
              "      <td>0</td>\n",
              "      <td>0_network_learn_model_gener</td>\n",
              "      <td>network - learn - model - gener - neural - use...</td>\n",
              "      <td>1.000000</td>\n",
              "      <td>False</td>\n",
              "    </tr>\n",
              "  </tbody>\n",
              "</table>\n",
              "<p>20972 rows × 6 columns</p>\n",
              "</div>\n",
              "      <button class=\"colab-df-convert\" onclick=\"convertToInteractive('df-2e6770d9-ca35-4a3a-8d63-6a4353acdd79')\"\n",
              "              title=\"Convert this dataframe to an interactive table.\"\n",
              "              style=\"display:none;\">\n",
              "        \n",
              "  <svg xmlns=\"http://www.w3.org/2000/svg\" height=\"24px\"viewBox=\"0 0 24 24\"\n",
              "       width=\"24px\">\n",
              "    <path d=\"M0 0h24v24H0V0z\" fill=\"none\"/>\n",
              "    <path d=\"M18.56 5.44l.94 2.06.94-2.06 2.06-.94-2.06-.94-.94-2.06-.94 2.06-2.06.94zm-11 1L8.5 8.5l.94-2.06 2.06-.94-2.06-.94L8.5 2.5l-.94 2.06-2.06.94zm10 10l.94 2.06.94-2.06 2.06-.94-2.06-.94-.94-2.06-.94 2.06-2.06.94z\"/><path d=\"M17.41 7.96l-1.37-1.37c-.4-.4-.92-.59-1.43-.59-.52 0-1.04.2-1.43.59L10.3 9.45l-7.72 7.72c-.78.78-.78 2.05 0 2.83L4 21.41c.39.39.9.59 1.41.59.51 0 1.02-.2 1.41-.59l7.78-7.78 2.81-2.81c.8-.78.8-2.07 0-2.86zM5.41 20L4 18.59l7.72-7.72 1.47 1.35L5.41 20z\"/>\n",
              "  </svg>\n",
              "      </button>\n",
              "      \n",
              "  <style>\n",
              "    .colab-df-container {\n",
              "      display:flex;\n",
              "      flex-wrap:wrap;\n",
              "      gap: 12px;\n",
              "    }\n",
              "\n",
              "    .colab-df-convert {\n",
              "      background-color: #E8F0FE;\n",
              "      border: none;\n",
              "      border-radius: 50%;\n",
              "      cursor: pointer;\n",
              "      display: none;\n",
              "      fill: #1967D2;\n",
              "      height: 32px;\n",
              "      padding: 0 0 0 0;\n",
              "      width: 32px;\n",
              "    }\n",
              "\n",
              "    .colab-df-convert:hover {\n",
              "      background-color: #E2EBFA;\n",
              "      box-shadow: 0px 1px 2px rgba(60, 64, 67, 0.3), 0px 1px 3px 1px rgba(60, 64, 67, 0.15);\n",
              "      fill: #174EA6;\n",
              "    }\n",
              "\n",
              "    [theme=dark] .colab-df-convert {\n",
              "      background-color: #3B4455;\n",
              "      fill: #D2E3FC;\n",
              "    }\n",
              "\n",
              "    [theme=dark] .colab-df-convert:hover {\n",
              "      background-color: #434B5C;\n",
              "      box-shadow: 0px 1px 3px 1px rgba(0, 0, 0, 0.15);\n",
              "      filter: drop-shadow(0px 1px 2px rgba(0, 0, 0, 0.3));\n",
              "      fill: #FFFFFF;\n",
              "    }\n",
              "  </style>\n",
              "\n",
              "      <script>\n",
              "        const buttonEl =\n",
              "          document.querySelector('#df-2e6770d9-ca35-4a3a-8d63-6a4353acdd79 button.colab-df-convert');\n",
              "        buttonEl.style.display =\n",
              "          google.colab.kernel.accessAllowed ? 'block' : 'none';\n",
              "\n",
              "        async function convertToInteractive(key) {\n",
              "          const element = document.querySelector('#df-2e6770d9-ca35-4a3a-8d63-6a4353acdd79');\n",
              "          const dataTable =\n",
              "            await google.colab.kernel.invokeFunction('convertToInteractive',\n",
              "                                                     [key], {});\n",
              "          if (!dataTable) return;\n",
              "\n",
              "          const docLinkHtml = 'Like what you see? Visit the ' +\n",
              "            '<a target=\"_blank\" href=https://colab.research.google.com/notebooks/data_table.ipynb>data table notebook</a>'\n",
              "            + ' to learn more about interactive tables.';\n",
              "          element.innerHTML = '';\n",
              "          dataTable['output_type'] = 'display_data';\n",
              "          await google.colab.output.renderOutput(dataTable, element);\n",
              "          const docLink = document.createElement('div');\n",
              "          docLink.innerHTML = docLinkHtml;\n",
              "          element.appendChild(docLink);\n",
              "        }\n",
              "      </script>\n",
              "    </div>\n",
              "  </div>\n",
              "  "
            ]
          },
          "metadata": {},
          "execution_count": 66
        }
      ]
    },
    {
      "cell_type": "markdown",
      "source": [
        "#LDA"
      ],
      "metadata": {
        "id": "H3pZU-Szo2WF"
      }
    },
    {
      "cell_type": "code",
      "source": [
        "import gensim\n",
        "\n",
        "tm_dictionary2 = gensim.corpora.Dictionary(data)\n",
        "#tm_dictionary2.filter_extremes(no_above=0.1, no_below=4)\n",
        "#tm_dictionary2.compactify()\n",
        "\n",
        "corpus = [tm_dictionary2.doc2bow(text) for text in data]\n",
        "lda = gensim.models.LdaMulticore(corpus, \n",
        "                                 num_topics = 6, # число топиков\n",
        "                                 id2word=tm_dictionary2, \n",
        "                                 passes=10)\n"
      ],
      "metadata": {
        "id": "0oDpTvu4ok0m"
      },
      "execution_count": 71,
      "outputs": []
    },
    {
      "cell_type": "code",
      "source": [
        "lda.print_topics()"
      ],
      "metadata": {
        "colab": {
          "base_uri": "https://localhost:8080/"
        },
        "id": "xCGNkWOHhFPg",
        "outputId": "68ed71fb-88cc-45b1-89c1-c4381a8c7472"
      },
      "execution_count": 73,
      "outputs": [
        {
          "output_type": "execute_result",
          "data": {
            "text/plain": [
              "[(0,\n",
              "  '0.013*\"imag\" + 0.012*\"data\" + 0.011*\"use\" + 0.011*\"learn\" + 0.009*\"social\" + 0.009*\"detect\" + 0.008*\"predict\" + 0.007*\"toward\" + 0.007*\"analysi\" + 0.006*\"dark\"'),\n",
              " (1,\n",
              "  '0.050*\"network\" + 0.039*\"learn\" + 0.025*\"model\" + 0.020*\"neural\" + 0.019*\"deep\" + 0.017*\"use\" + 0.013*\"gener\" + 0.010*\"graph\" + 0.009*\"data\" + 0.008*\"analysi\"'),\n",
              " (2,\n",
              "  '0.011*\"studi\" + 0.011*\"system\" + 0.008*\"control\" + 0.007*\"robot\" + 0.006*\"model\" + 0.005*\"stabil\" + 0.005*\"synthesi\" + 0.005*\"machin\" + 0.005*\"separ\" + 0.004*\"translat\"'),\n",
              " (3,\n",
              "  '0.017*\"estim\" + 0.013*\"optim\" + 0.011*\"space\" + 0.010*\"stochast\" + 0.010*\"model\" + 0.009*\"distribut\" + 0.008*\"function\" + 0.008*\"problem\" + 0.008*\"applic\" + 0.007*\"algorithm\"'),\n",
              " (4,\n",
              "  '0.011*\"optim\" + 0.010*\"system\" + 0.008*\"comput\" + 0.008*\"use\" + 0.008*\"matrix\" + 0.008*\"model\" + 0.008*\"power\" + 0.008*\"process\" + 0.007*\"problem\" + 0.007*\"effici\"'),\n",
              " (5,\n",
              "  '0.013*\"quantum\" + 0.011*\"field\" + 0.010*\"equat\" + 0.009*\"magnet\" + 0.009*\"group\" + 0.008*\"dynam\" + 0.008*\"algebra\" + 0.007*\"theori\" + 0.007*\"phase\" + 0.007*\"model\"')]"
            ]
          },
          "metadata": {},
          "execution_count": 73
        }
      ]
    },
    {
      "cell_type": "markdown",
      "source": [
        "#NMF"
      ],
      "metadata": {
        "id": "4HHQ08P4mTTY"
      }
    },
    {
      "cell_type": "code",
      "source": [
        "import numpy as np\n",
        "from sklearn.feature_extraction.text import TfidfVectorizer\n",
        "from sklearn.decomposition import NMF\n",
        "\n",
        "vectorizer = TfidfVectorizer(max_features=1500, min_df=10, stop_words='english')\n",
        "X = vectorizer.fit_transform(data_bert)\n",
        "words = np.array(vectorizer.get_feature_names_out())\n",
        "\n",
        "nmf = NMF(n_components=6, solver=\"mu\")\n",
        "W = nmf.fit_transform(X)\n",
        "H = nmf.components_\n",
        "\n",
        "for i, topic in enumerate(H):\n",
        "     print(\"Topic {}: {}\".format(i + 1, \",\".join([str(x) for x in words[topic.argsort()[-10:]]])))\n"
      ],
      "metadata": {
        "colab": {
          "base_uri": "https://localhost:8080/"
        },
        "id": "PpGNS54Fhxgc",
        "outputId": "b62e27d9-2fda-4597-a8cb-88c1b9e56b8e"
      },
      "execution_count": 78,
      "outputs": [
        {
          "output_type": "stream",
          "name": "stdout",
          "text": [
            "Topic 1: languag,mixtur,linear,use,select,infer,data,bayesian,predict,model\n",
            "Topic 2: predict,adversari,detect,train,use,recurr,convolut,deep,neural,network\n",
            "Topic 3: onlin,featur,transfer,classif,use,represent,reinforc,machin,deep,learn\n",
            "Topic 4: space,graph,structur,dynam,equat,function,use,data,estim,analysi\n",
            "Topic 5: train,geometri,music,rel,test,net,function,theorem,adversari,gener\n",
            "Topic 6: design,gradient,bayesian,problem,approach,distribut,stochast,algorithm,control,optim\n"
          ]
        }
      ]
    },
    {
      "cell_type": "markdown",
      "source": [
        "#Top2Vec"
      ],
      "metadata": {
        "id": "cYSNnkAyo1_r"
      }
    },
    {
      "cell_type": "code",
      "source": [
        "!pip install top2vec"
      ],
      "metadata": {
        "colab": {
          "base_uri": "https://localhost:8080/",
          "height": 804
        },
        "id": "AtRni9Pno_Uk",
        "outputId": "fb2c99f3-288b-4fbc-c651-0d710c6e70fc"
      },
      "execution_count": 80,
      "outputs": [
        {
          "output_type": "stream",
          "name": "stdout",
          "text": [
            "Looking in indexes: https://pypi.org/simple, https://us-python.pkg.dev/colab-wheels/public/simple/\n",
            "Collecting top2vec\n",
            "  Downloading top2vec-1.0.28-py3-none-any.whl (25 kB)\n",
            "Collecting gensim>=4.0.0\n",
            "  Downloading gensim-4.3.1-cp39-cp39-manylinux_2_17_x86_64.manylinux2014_x86_64.whl (26.5 MB)\n",
            "\u001b[2K     \u001b[90m━━━━━━━━━━━━━━━━━━━━━━━━━━━━━━━━━━━━━━━━\u001b[0m \u001b[32m26.5/26.5 MB\u001b[0m \u001b[31m58.2 MB/s\u001b[0m eta \u001b[36m0:00:00\u001b[0m\n",
            "\u001b[?25hRequirement already satisfied: pandas in /usr/local/lib/python3.9/dist-packages (from top2vec) (1.3.5)\n",
            "Requirement already satisfied: scikit-learn>=1.2.0 in /usr/local/lib/python3.9/dist-packages (from top2vec) (1.2.1)\n",
            "Requirement already satisfied: wordcloud in /usr/local/lib/python3.9/dist-packages (from top2vec) (1.8.2.2)\n",
            "Requirement already satisfied: umap-learn>=0.5.1 in /usr/local/lib/python3.9/dist-packages (from top2vec) (0.5.3)\n",
            "Requirement already satisfied: numpy>=1.20.0 in /usr/local/lib/python3.9/dist-packages (from top2vec) (1.22.4)\n",
            "Requirement already satisfied: hdbscan>=0.8.27 in /usr/local/lib/python3.9/dist-packages (from top2vec) (0.8.29)\n",
            "Requirement already satisfied: smart-open>=1.8.1 in /usr/local/lib/python3.9/dist-packages (from gensim>=4.0.0->top2vec) (6.3.0)\n",
            "Requirement already satisfied: scipy>=1.7.0 in /usr/local/lib/python3.9/dist-packages (from gensim>=4.0.0->top2vec) (1.10.1)\n",
            "Requirement already satisfied: joblib>=1.0 in /usr/local/lib/python3.9/dist-packages (from hdbscan>=0.8.27->top2vec) (1.2.0)\n",
            "Requirement already satisfied: cython>=0.27 in /usr/local/lib/python3.9/dist-packages (from hdbscan>=0.8.27->top2vec) (0.29.33)\n",
            "Requirement already satisfied: threadpoolctl>=2.0.0 in /usr/local/lib/python3.9/dist-packages (from scikit-learn>=1.2.0->top2vec) (3.1.0)\n",
            "Requirement already satisfied: numba>=0.49 in /usr/local/lib/python3.9/dist-packages (from umap-learn>=0.5.1->top2vec) (0.56.4)\n",
            "Requirement already satisfied: pynndescent>=0.5 in /usr/local/lib/python3.9/dist-packages (from umap-learn>=0.5.1->top2vec) (0.5.8)\n",
            "Requirement already satisfied: tqdm in /usr/local/lib/python3.9/dist-packages (from umap-learn>=0.5.1->top2vec) (4.65.0)\n",
            "Requirement already satisfied: pytz>=2017.3 in /usr/local/lib/python3.9/dist-packages (from pandas->top2vec) (2022.7.1)\n",
            "Requirement already satisfied: python-dateutil>=2.7.3 in /usr/local/lib/python3.9/dist-packages (from pandas->top2vec) (2.8.2)\n",
            "Requirement already satisfied: matplotlib in /usr/local/lib/python3.9/dist-packages (from wordcloud->top2vec) (3.5.3)\n",
            "Requirement already satisfied: pillow in /usr/local/lib/python3.9/dist-packages (from wordcloud->top2vec) (8.4.0)\n",
            "Requirement already satisfied: setuptools in /usr/local/lib/python3.9/dist-packages (from numba>=0.49->umap-learn>=0.5.1->top2vec) (57.4.0)\n",
            "Requirement already satisfied: llvmlite<0.40,>=0.39.0dev0 in /usr/local/lib/python3.9/dist-packages (from numba>=0.49->umap-learn>=0.5.1->top2vec) (0.39.1)\n",
            "Requirement already satisfied: six>=1.5 in /usr/local/lib/python3.9/dist-packages (from python-dateutil>=2.7.3->pandas->top2vec) (1.15.0)\n",
            "Requirement already satisfied: packaging>=20.0 in /usr/local/lib/python3.9/dist-packages (from matplotlib->wordcloud->top2vec) (23.0)\n",
            "Requirement already satisfied: pyparsing>=2.2.1 in /usr/local/lib/python3.9/dist-packages (from matplotlib->wordcloud->top2vec) (3.0.9)\n",
            "Requirement already satisfied: kiwisolver>=1.0.1 in /usr/local/lib/python3.9/dist-packages (from matplotlib->wordcloud->top2vec) (1.4.4)\n",
            "Requirement already satisfied: fonttools>=4.22.0 in /usr/local/lib/python3.9/dist-packages (from matplotlib->wordcloud->top2vec) (4.39.0)\n",
            "Requirement already satisfied: cycler>=0.10 in /usr/local/lib/python3.9/dist-packages (from matplotlib->wordcloud->top2vec) (0.11.0)\n",
            "Installing collected packages: gensim, top2vec\n",
            "  Attempting uninstall: gensim\n",
            "    Found existing installation: gensim 3.6.0\n",
            "    Uninstalling gensim-3.6.0:\n",
            "      Successfully uninstalled gensim-3.6.0\n",
            "Successfully installed gensim-4.3.1 top2vec-1.0.28\n"
          ]
        },
        {
          "output_type": "display_data",
          "data": {
            "application/vnd.colab-display-data+json": {
              "pip_warning": {
                "packages": [
                  "gensim"
                ]
              }
            }
          },
          "metadata": {}
        }
      ]
    },
    {
      "cell_type": "code",
      "source": [
        "from top2vec import Top2Vec\n",
        "\n",
        "umap_args = {'n_neighbors': 10,\n",
        "             'n_components': 6,\n",
        "             'metric': 'cosine',\n",
        "             \"random_state\": 42}\n",
        "\n",
        "hdbscan_args = {'min_cluster_size': 10,\n",
        "                'min_samples':5,\n",
        "                'metric': 'euclidean',\n",
        "                'cluster_selection_method': 'eom'}\n",
        "\n",
        "model = Top2Vec(documents= data_bert, speed='deep-learn', workers=8, min_count = 0, embedding_model='distiluse-base-multilingual-cased', umap_args = umap_args, hdbscan_args = hdbscan_args)\n",
        "model.get_num_topics()"
      ],
      "metadata": {
        "colab": {
          "base_uri": "https://localhost:8080/"
        },
        "id": "xYQ62UjyoqCP",
        "outputId": "b158cd09-21df-4fb6-ddc0-3debe346c35d"
      },
      "execution_count": 84,
      "outputs": [
        {
          "output_type": "stream",
          "name": "stderr",
          "text": [
            "2023-03-11 17:12:43,669 - top2vec - INFO - Pre-processing documents for training\n",
            "INFO:top2vec:Pre-processing documents for training\n",
            "2023-03-11 17:12:45,173 - top2vec - INFO - Downloading distiluse-base-multilingual-cased model\n",
            "INFO:top2vec:Downloading distiluse-base-multilingual-cased model\n",
            "2023-03-11 17:12:50,028 - top2vec - INFO - Creating joint document/word embedding\n",
            "INFO:top2vec:Creating joint document/word embedding\n",
            "2023-03-11 17:48:05,947 - top2vec - INFO - Creating lower dimension embedding of documents\n",
            "INFO:top2vec:Creating lower dimension embedding of documents\n",
            "2023-03-11 17:48:23,548 - top2vec - INFO - Finding dense areas of documents\n",
            "INFO:top2vec:Finding dense areas of documents\n",
            "2023-03-11 17:48:28,088 - top2vec - INFO - Finding topics\n",
            "INFO:top2vec:Finding topics\n"
          ]
        },
        {
          "output_type": "execute_result",
          "data": {
            "text/plain": [
              "291"
            ]
          },
          "metadata": {},
          "execution_count": 84
        }
      ]
    },
    {
      "cell_type": "code",
      "source": [
        "model.hierarchical_topic_reduction(num_topics=6)\n",
        "for i in range(6):\n",
        "  print(model.topic_words_reduced[i])"
      ],
      "metadata": {
        "colab": {
          "base_uri": "https://localhost:8080/"
        },
        "id": "HGGbTsx7pHM4",
        "outputId": "5ba9be3a-673e-4f4d-db9a-6409f487977a"
      },
      "execution_count": 94,
      "outputs": [
        {
          "output_type": "stream",
          "name": "stdout",
          "text": [
            "['manifoldvalu' 'quasigeostroph' 'orbitaldepend' 'symplectomorph'\n",
            " 'quasihomogen' 'quasiparticl' 'spectrumpreserv' 'ultraspheroid'\n",
            " 'multistellar' 'multigranular' 'multidirichlet' 'orbitalupd'\n",
            " 'multiphasefield' 'quasitriangular' 'quasiarithmet' 'discretemargin'\n",
            " 'amplitudetophas' 'multigrasp' 'multisymplect' 'inftygroupoid' 'manifold'\n",
            " 'varianceprevari' 'asynchronytoler' 'covarianceinsur' 'quasinonexpans'\n",
            " 'submultitil' 'saturatedfrag' 'sigmapisigma' 'diffractionawar'\n",
            " 'orbitalact' 'variancereduct' 'semigeostroph' 'spatiallyresolv'\n",
            " 'spectrallynorm' 'pseudospher' 'gammadiverg' 'quasiintegr'\n",
            " 'deepstrongcoupl' 'quasihereditari' 'heteronuclear' 'subtomogram'\n",
            " 'heterointerfac' 'ultradiscret' 'fractaltyp' 'orbitalfre' 'sparselearn'\n",
            " 'variancereduc' 'hyperbolicequ' 'multihybrid' 'epitwodimension']\n",
            "['algorithminvari' 'symmetryenforc' 'symmetricnmf' 'linearithm'\n",
            " 'linftyalgebra' 'pseudosymmetr' 'semialgebra' 'exponentialtyp'\n",
            " 'asymmetryinduc' 'symmetrybreak' 'polylogarithm' 'pcalgorithm'\n",
            " 'dialectometr' 'superalgebra' 'geometryoblivi' 'phasediagram'\n",
            " 'quasisymmetr' 'nonaxisymmetr' 'paralleldatafre' 'factormodel'\n",
            " 'calptsymmetri' 'morphism' 'mathcalpschem' 'matrixinvers'\n",
            " 'polynomialspac' 'grapheneintegr' 'singlealgorithm' 'ncdlcalgebra'\n",
            " 'intervaltyp' 'algorithmbas' 'manifoldvalu' 'quasiarithmet' 'subalgebra'\n",
            " 'multiparadigm' 'constanttyp' 'mathcalvfract' 'algebroid' 'dialgebra'\n",
            " 'geometricbas' 'algebra' 'mathsfllfcal' 'paradigmshift' 'supersymmetri'\n",
            " 'polynomialspe' 'algorithm' 'polynomialtim' 'integralmatch' 'mathcalgsgd'\n",
            " 'timeasymmetri' 'topologyandspik']\n",
            "['neutroncaptur' 'neutrinolead' 'protoninduc' 'magnetoinduct'\n",
            " 'excitonelectron' 'electronmolecul' 'entropydegre' 'magneticallydop'\n",
            " 'atomicswitch' 'neutrinoless' 'neutrino' 'dielectrophoret' 'orbitalact'\n",
            " 'hyperpolariz' 'electronmuon' 'neutron' 'electroncorrel' 'nanoreactor'\n",
            " 'magnetodielectr' 'entropysgd' 'magnetostrict' 'electronimpact'\n",
            " 'magnetoacoust' 'cryoelectron' 'electromagnet' 'atomicscal' 'orbitalfre'\n",
            " 'magnetoelectr' 'spectrallynorm' 'magnetotherm' 'nucleosynthesi'\n",
            " 'entropyregular' 'hyperpolar' 'protonhydrogen' 'antiferromagnet'\n",
            " 'thermonuclear' 'superparamagnet' 'orbitaldepend' 'atomtron'\n",
            " 'nanoparticl' 'ultralowenergi' 'protoncaptur' 'magnetospher'\n",
            " 'ultraspheroid' 'supranuclear' 'magnetocalor' 'nanoclust'\n",
            " 'magnetoferritin' 'quantumproof' 'electrocatalyst']\n",
            "['wholedetector' 'cheateridentifi' 'detector' 'multisensori'\n",
            " 'pseudoproven' 'detect' 'selfmonitor' 'multisensor' 'sensorimotor'\n",
            " 'signaldetect' 'spectrogram' 'perceptionact' 'photodetector'\n",
            " 'hyperspectr' 'tracenorm' 'intuitionist' 'radarcommun' 'observationbas'\n",
            " 'selectivespectr' 'neuralprosthet' 'spectrumpreserv' 'pseudospectr'\n",
            " 'perceptionbas' 'subtomogram' 'betweenstudi' 'cryptanalysi'\n",
            " 'neuroimagingbas' 'selfindex' 'neuralnetwork' 'oversight' 'metastudi'\n",
            " 'photodetect' 'selflearn' 'probe' 'spectrallead' 'simulationoptim'\n",
            " 'discern' 'trackingfilt' 'dialectometr' 'interferometri' 'machinelearn'\n",
            " 'encoderdecod' 'nearsensor' 'neuromodul' 'visuallinguist'\n",
            " 'algorithminvari' 'surveyplanet' 'runandinspect' 'multiperspect'\n",
            " 'observatori']\n",
            "['optimallyplac' 'optimizationbas' 'optimalr' 'optimizatio'\n",
            " 'algorithminvari' 'optimparallel' 'accuracyeffici' 'arbitraryprecis'\n",
            " 'pcalgorithm' 'quasidetermin' 'bestmatch' 'variancestabil' 'algorithm'\n",
            " 'superalgebra' 'biascorrect' 'algorithmbas' 'quasiarithmet'\n",
            " 'singlealgorithm' 'optimis' 'exponentialtyp' 'strictlycorrel' 'approach'\n",
            " 'quasiperfect' 'integralmatch' 'perfectoid' 'pseudorandom'\n",
            " 'moderateconfid' 'optimist' 'randomcoeffici' 'qloglikelihood'\n",
            " 'paradigmshift' 'modestlyinclin' 'symmetrybreak' 'randomnessinduc'\n",
            " 'quasipolynomi' 'variancereduct' 'losslikelihood' 'radiancepredict'\n",
            " 'delayconstrain' 'pragmat' 'pseudoproven' 'likelihoodfre'\n",
            " 'quasigeostroph' 'quasiconform' 'quasiregular' 'quasiintegr'\n",
            " 'superexponenti' 'derivativefre' 'probabilist' 'variancereduc']\n",
            "['neuralnetwork' 'networkscal' 'networktheoret' 'networkanalyt'\n",
            " 'networkstructur' 'network' 'trajectorynet' 'networklevel' 'networksbas'\n",
            " 'subnetwork' 'neuroimagingbas' 'intranet' 'networkbas' 'hybridnet'\n",
            " 'neuralprosthet' 'inversefacenet' 'clusternet' 'neuralbran' 'neuralguid'\n",
            " 'neuralpow' 'neuroninspir' 'neuromodul' 'deepnet' 'neural' 'neuromorph'\n",
            " 'cyberwarfar' 'neuron' 'rede' 'evflownet' 'conceptnet' 'neuroimag'\n",
            " 'neuralbas' 'pulsewidth' 'neuromechan' 'neurodegen' 'bandwidth'\n",
            " 'neurorul' 'scatternet' 'cyberattack' 'neurodynam' 'cyberphys'\n",
            " 'neuroanatom' 'neurofeedback' 'neuromuscular' 'bitwidth' 'broadband'\n",
            " 'qneuron' 'neurofuzzi' 'wavenet' 'pathwidth']\n"
          ]
        }
      ]
    },
    {
      "cell_type": "code",
      "source": [],
      "metadata": {
        "id": "bvjMFUVm9AWF"
      },
      "execution_count": null,
      "outputs": []
    }
  ]
}